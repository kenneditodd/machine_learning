{
 "cells": [
  {
   "cell_type": "code",
   "execution_count": 10,
   "id": "5fbec4ad-f12d-4b5d-b29b-6aecfc1774a2",
   "metadata": {},
   "outputs": [
    {
     "data": {
      "text/plain": [
       "(22552, 16)"
      ]
     },
     "execution_count": 10,
     "metadata": {},
     "output_type": "execute_result"
    }
   ],
   "source": [
    "# Kennedi Todd\n",
    "# August 8, 2024\n",
    "# Chapter 13: Tree-based Methods\n",
    "# Use gradient boosting to predict a numeric target output for nightly Airbnb fee\n",
    "\n",
    "# libraries\n",
    "import pandas as pd\n",
    "from sklearn.model_selection import train_test_split\n",
    "from sklearn import ensemble\n",
    "from sklearn.metrics import mean_absolute_error\n",
    "\n",
    "# read data\n",
    "df = pd.read_csv('listings.csv')\n",
    "df.shape"
   ]
  },
  {
   "cell_type": "code",
   "execution_count": 11,
   "id": "08a43479-0110-4544-9581-87759266bdf1",
   "metadata": {},
   "outputs": [
    {
     "data": {
      "text/plain": [
       "(22552, 7)"
      ]
     },
     "execution_count": 11,
     "metadata": {},
     "output_type": "execute_result"
    }
   ],
   "source": [
    "# remove variables\n",
    "df.drop(['id','name','host_name','calculated_host_listings_count','last_review',\n",
    "        'availability_365','longitude','latitude','neighbourhood'],\n",
    "        axis =1,\n",
    "       inplace = True)\n",
    "df.shape"
   ]
  },
  {
   "cell_type": "code",
   "execution_count": 12,
   "id": "a1be2e15-7f72-46c9-a548-1e3c72c510dc",
   "metadata": {},
   "outputs": [
    {
     "data": {
      "text/plain": [
       "(22552, 20)"
      ]
     },
     "execution_count": 12,
     "metadata": {},
     "output_type": "execute_result"
    }
   ],
   "source": [
    "# one-hot encoding\n",
    "df = pd.get_dummies(df, columns = ['neighbourhood_group','room_type'])\n",
    "df.shape"
   ]
  },
  {
   "cell_type": "code",
   "execution_count": 13,
   "id": "3491799b-e7f4-4237-b33a-bcfc813b0dc6",
   "metadata": {},
   "outputs": [
    {
     "data": {
      "text/plain": [
       "host_id                                            0\n",
       "price                                              0\n",
       "minimum_nights                                     0\n",
       "number_of_reviews                                  0\n",
       "reviews_per_month                               3914\n",
       "neighbourhood_group_Charlottenburg-Wilm.           0\n",
       "neighbourhood_group_Friedrichshain-Kreuzberg       0\n",
       "neighbourhood_group_Lichtenberg                    0\n",
       "neighbourhood_group_Marzahn - Hellersdorf          0\n",
       "neighbourhood_group_Mitte                          0\n",
       "neighbourhood_group_Neukölln                       0\n",
       "neighbourhood_group_Pankow                         0\n",
       "neighbourhood_group_Reinickendorf                  0\n",
       "neighbourhood_group_Spandau                        0\n",
       "neighbourhood_group_Steglitz - Zehlendorf          0\n",
       "neighbourhood_group_Tempelhof - Schöneberg         0\n",
       "neighbourhood_group_Treptow - Köpenick             0\n",
       "room_type_Entire home/apt                          0\n",
       "room_type_Private room                             0\n",
       "room_type_Shared room                              0\n",
       "dtype: int64"
      ]
     },
     "execution_count": 13,
     "metadata": {},
     "output_type": "execute_result"
    }
   ],
   "source": [
    "# remove missing rows\n",
    "df.isnull().sum()"
   ]
  },
  {
   "cell_type": "code",
   "execution_count": 14,
   "id": "ec2e04d5-71a2-4a1c-a944-194ee2126abd",
   "metadata": {},
   "outputs": [
    {
     "data": {
      "text/plain": [
       "(18638, 20)"
      ]
     },
     "execution_count": 14,
     "metadata": {},
     "output_type": "execute_result"
    }
   ],
   "source": [
    "df.dropna(axis = 0, how = 'any', inplace = True, subset = None)\n",
    "df.shape"
   ]
  },
  {
   "cell_type": "code",
   "execution_count": 15,
   "id": "00a5a4d1-f6c5-4c81-905c-1797ad98533c",
   "metadata": {},
   "outputs": [
    {
     "name": "stdout",
     "output_type": "stream",
     "text": [
      "MAE: 21.60\n"
     ]
    }
   ],
   "source": [
    "# assign X and y variables\n",
    "X = df.drop('price', axis = 1)\n",
    "y = df['price']\n",
    "\n",
    "# split training/testing data 70/30\n",
    "X_train, X_test, y_train, y_test = train_test_split(X, y, \n",
    "                                                    shuffle = True, \n",
    "                                                    test_size = 0.3, \n",
    "                                                    random_state = 10)\n",
    "\n",
    "# set algorithm\n",
    "model = ensemble.GradientBoostingRegressor(\n",
    "    n_estimators = 350,\n",
    "    learning_rate = 0.1,\n",
    "    max_depth = 5,\n",
    "    min_samples_split = 4,\n",
    "    min_samples_leaf = 6,\n",
    "    max_features = 0.6,\n",
    "    loss = 'huber'\n",
    ")\n",
    "\n",
    "# fit data\n",
    "model.fit(X_train, y_train)\n",
    "\n",
    "# evaluate\n",
    "mae_train = mean_absolute_error(y_train, model.predict(X_train))\n",
    "print('MAE: %.2f' % mae_train)"
   ]
  },
  {
   "cell_type": "code",
   "execution_count": 16,
   "id": "699682d0-730a-4c8b-a5fb-73c217ff015e",
   "metadata": {},
   "outputs": [
    {
     "name": "stdout",
     "output_type": "stream",
     "text": [
      "MAE: 27.26\n"
     ]
    }
   ],
   "source": [
    "mae_test = mean_absolute_error(y_test, model.predict(X_test))\n",
    "print('MAE: %.2f' % mae_test)"
   ]
  }
 ],
 "metadata": {
  "kernelspec": {
   "display_name": "Python 3 (ipykernel)",
   "language": "python",
   "name": "python3"
  },
  "language_info": {
   "codemirror_mode": {
    "name": "ipython",
    "version": 3
   },
   "file_extension": ".py",
   "mimetype": "text/x-python",
   "name": "python",
   "nbconvert_exporter": "python",
   "pygments_lexer": "ipython3",
   "version": "3.12.4"
  }
 },
 "nbformat": 4,
 "nbformat_minor": 5
}
