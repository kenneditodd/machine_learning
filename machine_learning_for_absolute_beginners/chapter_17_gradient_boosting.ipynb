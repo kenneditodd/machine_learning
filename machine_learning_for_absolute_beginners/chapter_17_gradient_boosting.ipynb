{
 "cells": [
  {
   "cell_type": "code",
   "execution_count": 34,
   "id": "fe2a1fd5-f06e-4667-8b3f-55cd51676caa",
   "metadata": {},
   "outputs": [
    {
     "name": "stdout",
     "output_type": "stream",
     "text": [
      "Training Set Mean Absolute Error: 27070.06\n"
     ]
    }
   ],
   "source": [
    "# Kennedi Todd\n",
    "# July 30, 2024\n",
    "# Chapter 17 Exercise\n",
    "\n",
    "# import libraries\n",
    "import pandas as pd\n",
    "from sklearn.model_selection import train_test_split\n",
    "from sklearn import ensemble\n",
    "from sklearn.metrics import mean_absolute_error\n",
    "\n",
    "# read csv\n",
    "df = pd.read_csv('/Users/kenneditodd/Documents/machine_learning/machine_learning_for_absolute_beginners_third_edition/Melbourne_housing_FULL.csv')\n",
    "# preview\n",
    "#df.head(10) \n",
    "\n",
    "# scrub data\n",
    "del df['Address']\n",
    "del df['Method']\n",
    "del df['SellerG']\n",
    "del df['Date']\n",
    "del df['Postcode']\n",
    "del df['Lattitude']\n",
    "del df['Longtitude']\n",
    "del df['Regionname']\n",
    "del df['Propertycount']\n",
    "\n",
    "# remove rows with missing values\n",
    "df.dropna(axis = 0,        # 0 = row, 1 = column\n",
    "          how = 'any',     # drop rows if at least one value missing\n",
    "          subset = None,   # use all columns\n",
    "          inplace = True)  # update rather than replace\n",
    "\n",
    "# one-hot encoding\n",
    "df = pd.get_dummies(df, columns = ['Suburb', 'Type', 'CouncilArea'])\n",
    "\n",
    "# assign independent and dependent variables\n",
    "X = df.drop('Price', axis = 1)\n",
    "y = df['Price']\n",
    "\n",
    "# split the data 70/30\n",
    "X_train, X_test, y_train, y_test = train_test_split(X, y, test_size = 0.3, shuffle = True)\n",
    "\n",
    "# gradient boosting regressor and hyperparameters\n",
    "model = ensemble.GradientBoostingRegressor(n_estimators = 150,      # num decision tress\n",
    "                                           learning_rate = 0.1,     # rate at which additional decision trees influence overall prediction\n",
    "                                           max_depth = 30,          # max depth/layers of each decision tree\n",
    "                                           min_samples_split = 10,  # min samples to execute binary split\n",
    "                                           min_samples_leaf = 6,    # min samples in each child node\n",
    "                                           max_features = 0.6,      # total features when determing split, restricts to 60% features\n",
    "                                           loss = 'huber')          # calculate model's error rate, huber protects againsts outliers and anomalies\n",
    "model.fit(X_train, y_train)\n",
    "\n",
    "# evaluate results\n",
    "mae_train = mean_absolute_error(y_train, model.predict(X_train))\n",
    "print(\"Training Set Mean Absolute Error: %.2f\" % mae_train)\n"
   ]
  },
  {
   "cell_type": "code",
   "execution_count": 35,
   "id": "33471e32-9aa9-4fab-9f47-e508ba7cd7d0",
   "metadata": {},
   "outputs": [
    {
     "name": "stdout",
     "output_type": "stream",
     "text": [
      "Test Set Mean Absolute Error: 172600.00\n"
     ]
    }
   ],
   "source": [
    "mae_test = mean_absolute_error(y_test, model.predict(X_test))\n",
    "print(\"Test Set Mean Absolute Error: %.2f\" % mae_test)"
   ]
  },
  {
   "cell_type": "code",
   "execution_count": null,
   "id": "f1f4f196-74ca-456a-8c25-0dab2396c66f",
   "metadata": {},
   "outputs": [],
   "source": [
    "# high discrepancy between training and test mean absolute error usually means data is overfit\n",
    "# we overfit by setting max_depth = 30"
   ]
  }
 ],
 "metadata": {
  "kernelspec": {
   "display_name": "Python 3 (ipykernel)",
   "language": "python",
   "name": "python3"
  },
  "language_info": {
   "codemirror_mode": {
    "name": "ipython",
    "version": 3
   },
   "file_extension": ".py",
   "mimetype": "text/x-python",
   "name": "python",
   "nbconvert_exporter": "python",
   "pygments_lexer": "ipython3",
   "version": "3.12.4"
  }
 },
 "nbformat": 4,
 "nbformat_minor": 5
}
