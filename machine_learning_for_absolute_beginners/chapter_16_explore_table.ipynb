{
 "cells": [
  {
   "cell_type": "code",
   "execution_count": null,
   "id": "989f0f29-dc10-4f0a-bcc4-70bc8fceecfc",
   "metadata": {},
   "outputs": [],
   "source": []
  },
  {
   "cell_type": "code",
   "execution_count": 6,
   "id": "0f785c4f-654b-409f-8273-66c5bbb73951",
   "metadata": {},
   "outputs": [
    {
     "data": {
      "text/plain": [
       "Index(['Suburb', 'Address', 'Rooms', 'Type', 'Price', 'Method', 'SellerG',\n",
       "       'Date', 'Distance', 'Postcode', 'Bedroom2', 'Bathroom', 'Car',\n",
       "       'Landsize', 'BuildingArea', 'YearBuilt', 'CouncilArea', 'Lattitude',\n",
       "       'Longtitude', 'Regionname', 'Propertycount'],\n",
       "      dtype='object')"
      ]
     },
     "execution_count": 6,
     "metadata": {},
     "output_type": "execute_result"
    }
   ],
   "source": [
    "# Kennedi Todd\n",
    "# July 30, 2024\n",
    "# Chapter 16 Exercise\n",
    "\n",
    "# import library\n",
    "import pandas as pd\n",
    "\n",
    "# read csv\n",
    "df = pd.read_csv('/Users/kenneditodd/Documents/machine_learning/machine_learning_for_absolute_beginners_third_edition/Melbourne_housing_FULL.csv')\n",
    "\n",
    "# preview table\n",
    "df.head(10) \n",
    "\n",
    "# view 101st property\n",
    "df.iloc[100]\n",
    "\n",
    "# view columns\n",
    "df.columns\n"
   ]
  },
  {
   "cell_type": "code",
   "execution_count": null,
   "id": "291fef01-f44e-4e1e-9253-b826aaf1770a",
   "metadata": {},
   "outputs": [],
   "source": []
  }
 ],
 "metadata": {
  "kernelspec": {
   "display_name": "Python 3 (ipykernel)",
   "language": "python",
   "name": "python3"
  },
  "language_info": {
   "codemirror_mode": {
    "name": "ipython",
    "version": 3
   },
   "file_extension": ".py",
   "mimetype": "text/x-python",
   "name": "python",
   "nbconvert_exporter": "python",
   "pygments_lexer": "ipython3",
   "version": "3.12.4"
  }
 },
 "nbformat": 4,
 "nbformat_minor": 5
}
